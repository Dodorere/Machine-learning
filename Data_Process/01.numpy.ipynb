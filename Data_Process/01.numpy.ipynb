{
 "cells": [
  {
   "cell_type": "markdown",
   "id": "22892bd8-5aaf-4f29-b4b3-aee92e51c325",
   "metadata": {},
   "source": [
    "[넘파이 사이트](https://numpy.org/)"
   ]
  },
  {
   "cell_type": "code",
   "execution_count": 1,
   "id": "62837345-280a-4edb-8254-d63d21946fe5",
   "metadata": {},
   "outputs": [],
   "source": [
    "#![제목](링크) - 이미지  (마크다운)"
   ]
  },
  {
   "cell_type": "code",
   "execution_count": 2,
   "id": "9ed783b2-40df-41b7-944a-217a78d8d845",
   "metadata": {},
   "outputs": [],
   "source": [
    "#[제목](링크) (마크다운)"
   ]
  },
  {
   "cell_type": "markdown",
   "id": "1294bdc0-21d3-44fd-ae71-71f405d4a83d",
   "metadata": {},
   "source": [
    "# Numpy Tutorial"
   ]
  },
  {
   "cell_type": "code",
   "execution_count": 3,
   "id": "f643466d-0308-47d3-987f-2e0e8e7cfd96",
   "metadata": {},
   "outputs": [
    {
     "name": "stdout",
     "output_type": "stream",
     "text": [
      "[15, 37, 59]\n"
     ]
    }
   ],
   "source": [
    "score = [12,34,56]\n",
    "\n",
    "for i, s in enumerate(score):\n",
    "    score[i] = s+3 \n",
    "print (score)    \n"
   ]
  },
  {
   "cell_type": "code",
   "execution_count": 4,
   "id": "b39d7ffd-c863-444f-ae49-e1a8d58a5386",
   "metadata": {},
   "outputs": [
    {
     "name": "stdout",
     "output_type": "stream",
     "text": [
      "Requirement already satisfied: numpy in c:\\users\\049\\anaconda3\\envs\\myml\\lib\\site-packages (1.23.1)\n"
     ]
    }
   ],
   "source": [
    "!pip install numpy"
   ]
  },
  {
   "cell_type": "code",
   "execution_count": 5,
   "id": "18667f8d-e2e5-4cbd-9c8e-24e2069662d7",
   "metadata": {
    "tags": []
   },
   "outputs": [
    {
     "data": {
      "text/plain": [
       "'1.22.3'"
      ]
     },
     "execution_count": 5,
     "metadata": {},
     "output_type": "execute_result"
    }
   ],
   "source": [
    "import numpy as np\n",
    "\n",
    "np.__version__"
   ]
  },
  {
   "cell_type": "markdown",
   "id": "991ee5f5-c2d9-46f1-9401-5edf9623674f",
   "metadata": {
    "tags": []
   },
   "source": [
    "## Numpy array"
   ]
  },
  {
   "cell_type": "code",
   "execution_count": 6,
   "id": "d5402508-e921-458c-9889-5af973295da9",
   "metadata": {
    "tags": []
   },
   "outputs": [
    {
     "data": {
      "text/plain": [
       "int"
      ]
     },
     "execution_count": 6,
     "metadata": {},
     "output_type": "execute_result"
    }
   ],
   "source": [
    "x = (10)\n",
    "type(x)"
   ]
  },
  {
   "cell_type": "code",
   "execution_count": 7,
   "id": "45dd3b3d-5486-49db-9c8e-ded4e0477823",
   "metadata": {},
   "outputs": [
    {
     "data": {
      "text/plain": [
       "tuple"
      ]
     },
     "execution_count": 7,
     "metadata": {},
     "output_type": "execute_result"
    }
   ],
   "source": [
    "y = (10,)\n",
    "type(y)"
   ]
  },
  {
   "cell_type": "code",
   "execution_count": 8,
   "id": "274e06ab-fd1e-496a-b691-5f9ecf79e3d3",
   "metadata": {},
   "outputs": [],
   "source": [
    "#1D array shape 표현할 때 shape(4,)로 표현해야 함"
   ]
  },
  {
   "cell_type": "code",
   "execution_count": 9,
   "id": "7d4f4200-61f0-493c-a956-4399ed24a4f2",
   "metadata": {},
   "outputs": [
    {
     "name": "stdout",
     "output_type": "stream",
     "text": [
      "[1 2 3 4 5]\n"
     ]
    },
    {
     "data": {
      "text/plain": [
       "array([1, 2, 3, 4, 5])"
      ]
     },
     "execution_count": 9,
     "metadata": {},
     "output_type": "execute_result"
    }
   ],
   "source": [
    "xarr = np.array([1,2,3,4,5])\n",
    "print(xarr)\n",
    "xarr"
   ]
  },
  {
   "cell_type": "code",
   "execution_count": 10,
   "id": "5a7b3fbe-51b6-42f7-845d-2db06954d17e",
   "metadata": {},
   "outputs": [
    {
     "data": {
      "text/plain": [
       "numpy.ndarray"
      ]
     },
     "execution_count": 10,
     "metadata": {},
     "output_type": "execute_result"
    }
   ],
   "source": [
    "type(xarr)"
   ]
  },
  {
   "cell_type": "code",
   "execution_count": 11,
   "id": "0494eeec-1eb9-4ab4-ad11-b0ae1a2cedb7",
   "metadata": {},
   "outputs": [
    {
     "data": {
      "text/plain": [
       "(5,)"
      ]
     },
     "execution_count": 11,
     "metadata": {},
     "output_type": "execute_result"
    }
   ],
   "source": [
    "xarr.shape"
   ]
  },
  {
   "cell_type": "code",
   "execution_count": 12,
   "id": "f079b772-5c79-40fd-b8f6-3da9f3be6118",
   "metadata": {},
   "outputs": [
    {
     "data": {
      "text/plain": [
       "dtype('int32')"
      ]
     },
     "execution_count": 12,
     "metadata": {},
     "output_type": "execute_result"
    }
   ],
   "source": [
    "xarr.dtype\n",
    "\n",
    "#int32, int64, float32, float64"
   ]
  },
  {
   "cell_type": "code",
   "execution_count": 13,
   "id": "342120b5-0eb0-483d-b0fd-8c3d102ae594",
   "metadata": {},
   "outputs": [
    {
     "data": {
      "text/plain": [
       "5"
      ]
     },
     "execution_count": 13,
     "metadata": {},
     "output_type": "execute_result"
    }
   ],
   "source": [
    "xarr.size\n",
    "\n",
    "#원소 개수"
   ]
  },
  {
   "cell_type": "code",
   "execution_count": 14,
   "id": "5a61ef93-5829-4856-99f7-e9b649c5105c",
   "metadata": {},
   "outputs": [
    {
     "data": {
      "text/plain": [
       "4"
      ]
     },
     "execution_count": 14,
     "metadata": {},
     "output_type": "execute_result"
    }
   ],
   "source": [
    "xarr.itemsize\n",
    "\n",
    "#바이트 수"
   ]
  },
  {
   "cell_type": "code",
   "execution_count": 15,
   "id": "a4059812-3a9a-4193-89a3-f82d1ac42f2e",
   "metadata": {},
   "outputs": [
    {
     "data": {
      "text/plain": [
       "20"
      ]
     },
     "execution_count": 15,
     "metadata": {},
     "output_type": "execute_result"
    }
   ],
   "source": [
    "xarr.size * xarr.itemsize\n",
    "\n",
    "#들어가는 메모리 확인"
   ]
  },
  {
   "cell_type": "code",
   "execution_count": 16,
   "id": "49e1e0f7-6c05-4a6e-a477-eb8edf28fbc8",
   "metadata": {},
   "outputs": [
    {
     "data": {
      "text/plain": [
       "(3, 2)"
      ]
     },
     "execution_count": 16,
     "metadata": {},
     "output_type": "execute_result"
    }
   ],
   "source": [
    "yarr = np.array([[10,11],[12,13],[15,16]])\n",
    "yarr.shape\n",
    "\n",
    "#두개짜리 원소 묶음이 3개있음"
   ]
  },
  {
   "cell_type": "code",
   "execution_count": 17,
   "id": "ea722066-339c-4a82-8c40-c10a2f092d66",
   "metadata": {},
   "outputs": [
    {
     "data": {
      "text/plain": [
       "(3, 2, 2)"
      ]
     },
     "execution_count": 17,
     "metadata": {},
     "output_type": "execute_result"
    }
   ],
   "source": [
    "zarr = np.array([[[1,2],[3,4]],[[5,6],[7,8]],[[9,10],[11,12]]])\n",
    "zarr.shape"
   ]
  },
  {
   "cell_type": "code",
   "execution_count": 18,
   "id": "fb20996f-827a-4e68-9673-feb62a72d724",
   "metadata": {},
   "outputs": [
    {
     "data": {
      "text/plain": [
       "array([[[ 1,  2],\n",
       "        [ 3,  4]],\n",
       "\n",
       "       [[ 5,  6],\n",
       "        [ 7,  8]],\n",
       "\n",
       "       [[ 9, 10],\n",
       "        [11, 12]]])"
      ]
     },
     "execution_count": 18,
     "metadata": {},
     "output_type": "execute_result"
    }
   ],
   "source": [
    "zarr"
   ]
  },
  {
   "cell_type": "code",
   "execution_count": 19,
   "id": "24982968-c210-4468-ad0a-27af07c9fd89",
   "metadata": {},
   "outputs": [
    {
     "data": {
      "text/plain": [
       "array([[[ 1.,  2.],\n",
       "        [ 3.,  4.]],\n",
       "\n",
       "       [[ 5.,  6.],\n",
       "        [ 7.,  8.]],\n",
       "\n",
       "       [[ 9., 10.],\n",
       "        [11., 12.]]], dtype=float32)"
      ]
     },
     "execution_count": 19,
     "metadata": {},
     "output_type": "execute_result"
    }
   ],
   "source": [
    "zarr.astype('float32')\n",
    "\n",
    "#이걸로 데이터 타입이 바뀌진 않음"
   ]
  },
  {
   "cell_type": "code",
   "execution_count": 20,
   "id": "8769bc26-0e6a-48b1-9c82-e676f5bc121a",
   "metadata": {},
   "outputs": [
    {
     "data": {
      "text/plain": [
       "dtype('float32')"
      ]
     },
     "execution_count": 20,
     "metadata": {},
     "output_type": "execute_result"
    }
   ],
   "source": [
    "zarr = zarr.astype('float32')\n",
    "zarr.dtype\n",
    "\n",
    "#선언해줘야 바뀜"
   ]
  },
  {
   "cell_type": "code",
   "execution_count": 21,
   "id": "4f2063aa-584a-4e34-9df7-c1a0310c63b8",
   "metadata": {},
   "outputs": [
    {
     "data": {
      "text/plain": [
       "dtype('float64')"
      ]
     },
     "execution_count": 21,
     "metadata": {},
     "output_type": "execute_result"
    }
   ],
   "source": [
    "xarr = np.array([1,2,3,4,5], dtype = 'float64')\n",
    "xarr.dtype\n",
    "\n",
    "#데이터 불러오면서 데이터 타입을 바꿀 수 있음"
   ]
  },
  {
   "cell_type": "code",
   "execution_count": 22,
   "id": "c114d8ce-2e62-4cf7-9d47-121430e334d3",
   "metadata": {},
   "outputs": [
    {
     "data": {
      "text/plain": [
       "(1, 3, 2, 2)"
      ]
     },
     "execution_count": 22,
     "metadata": {},
     "output_type": "execute_result"
    }
   ],
   "source": [
    "zarr = zarr.reshape(-1,3,2,2)\n",
    "zarr.shape\n",
    "#차원 주가시킬 때 -1은 적당히 함수에게 맡기는 느낌"
   ]
  },
  {
   "cell_type": "code",
   "execution_count": 23,
   "id": "a7ac5051-e032-46ab-984f-80ba7273f69e",
   "metadata": {},
   "outputs": [
    {
     "data": {
      "text/plain": [
       "array([[ 1,  2,  3,  4],\n",
       "       [ 5,  6,  7,  8],\n",
       "       [ 9, 10, 11, 12]])"
      ]
     },
     "execution_count": 23,
     "metadata": {},
     "output_type": "execute_result"
    }
   ],
   "source": [
    "tarr = np.array([[[1,2],[3,4]],[[5,6],[7,8]],[[9,10],[11,12]]])\n",
    "tarr = tarr.reshape(3,4)\n",
    "tarr"
   ]
  },
  {
   "cell_type": "code",
   "execution_count": 24,
   "id": "13710286-25b5-4e2d-96e7-88db5063f027",
   "metadata": {},
   "outputs": [
    {
     "data": {
      "text/plain": [
       "array([[[ 1,  2],\n",
       "        [ 3,  4]],\n",
       "\n",
       "       [[ 5,  6],\n",
       "        [ 7,  8]],\n",
       "\n",
       "       [[ 9, 10],\n",
       "        [11, 12]]])"
      ]
     },
     "execution_count": 24,
     "metadata": {},
     "output_type": "execute_result"
    }
   ],
   "source": [
    "tarr = tarr.reshape(-1,2,2)\n",
    "tarr"
   ]
  },
  {
   "cell_type": "code",
   "execution_count": 25,
   "id": "b079f511-861e-4ed3-9854-a9c067ff5d51",
   "metadata": {},
   "outputs": [
    {
     "data": {
      "text/plain": [
       "array([ 1,  2,  3,  4,  5,  6,  7,  8,  9, 10, 11, 12])"
      ]
     },
     "execution_count": 25,
     "metadata": {},
     "output_type": "execute_result"
    }
   ],
   "source": [
    "tarr.reshape(-1)\n",
    "\n",
    "#tarr.flatten()과 같음"
   ]
  },
  {
   "cell_type": "code",
   "execution_count": 26,
   "id": "7e6ade2f-f9dc-40d2-aed4-312fbd3cff0b",
   "metadata": {},
   "outputs": [
    {
     "data": {
      "text/plain": [
       "array([[[[ 1,  2],\n",
       "         [ 3,  4]],\n",
       "\n",
       "        [[ 5,  6],\n",
       "         [ 7,  8]],\n",
       "\n",
       "        [[ 9, 10],\n",
       "         [11, 12]]]])"
      ]
     },
     "execution_count": 26,
     "metadata": {},
     "output_type": "execute_result"
    }
   ],
   "source": [
    "tarr[np.newaxis, :]\n",
    "\n",
    "# 맨 앞에 차원 하나 추가하는 문법\n",
    "# :의 위치에 따라 어디에 차원을 추가하는지가 달라짐"
   ]
  },
  {
   "cell_type": "code",
   "execution_count": 27,
   "id": "6ba6a600-b91f-48da-812c-0a1323690e4f",
   "metadata": {},
   "outputs": [
    {
     "data": {
      "text/plain": [
       "array([0, 1, 2, 3, 4, 5, 6, 7, 8, 9])"
      ]
     },
     "execution_count": 27,
     "metadata": {},
     "output_type": "execute_result"
    }
   ],
   "source": [
    "np.arange(10)"
   ]
  },
  {
   "cell_type": "code",
   "execution_count": 28,
   "id": "b4fe2e47-af92-4496-8501-0f41e8b5ba7e",
   "metadata": {},
   "outputs": [
    {
     "data": {
      "text/plain": [
       "array([[ 0,  2],\n",
       "       [ 4,  6],\n",
       "       [ 8, 10],\n",
       "       [12, 14],\n",
       "       [16, 18]])"
      ]
     },
     "execution_count": 28,
     "metadata": {},
     "output_type": "execute_result"
    }
   ],
   "source": [
    "xarr = np.arange(0,20,2).reshape(5,2)\n",
    "xarr\n",
    "\n",
    "#파이썬의 range 이용해서 list 만드는 느낌"
   ]
  },
  {
   "cell_type": "code",
   "execution_count": 29,
   "id": "b4d13637-f960-4cac-850e-b4bbb07704ea",
   "metadata": {},
   "outputs": [
    {
     "data": {
      "text/plain": [
       "array([1.        , 1.11111111, 1.22222222, 1.33333333, 1.44444444,\n",
       "       1.55555556, 1.66666667, 1.77777778, 1.88888889, 2.        ])"
      ]
     },
     "execution_count": 29,
     "metadata": {},
     "output_type": "execute_result"
    }
   ],
   "source": [
    "np.linspace(1,2,10)"
   ]
  },
  {
   "cell_type": "code",
   "execution_count": 30,
   "id": "0785fb75-daa7-4bb2-8a06-6f0dc2e07d8a",
   "metadata": {},
   "outputs": [
    {
     "data": {
      "text/plain": [
       "array([[0, 0, 0],\n",
       "       [0, 0, 0]])"
      ]
     },
     "execution_count": 30,
     "metadata": {},
     "output_type": "execute_result"
    }
   ],
   "source": [
    "np.full((2,3),0)"
   ]
  },
  {
   "cell_type": "code",
   "execution_count": 31,
   "id": "e0e6cebc-daa0-4204-9430-a710bab2eb61",
   "metadata": {},
   "outputs": [
    {
     "data": {
      "text/plain": [
       "array([[0., 0., 0.],\n",
       "       [0., 0., 0.]])"
      ]
     },
     "execution_count": 31,
     "metadata": {},
     "output_type": "execute_result"
    }
   ],
   "source": [
    "np.zeros((2,3))"
   ]
  },
  {
   "cell_type": "code",
   "execution_count": 32,
   "id": "a7e3d635-f436-4223-83bf-2bbb999688b4",
   "metadata": {},
   "outputs": [
    {
     "data": {
      "text/plain": [
       "array([[[[0., 0.],\n",
       "         [0., 0.]],\n",
       "\n",
       "        [[0., 0.],\n",
       "         [0., 0.]],\n",
       "\n",
       "        [[0., 0.],\n",
       "         [0., 0.]]]], dtype=float32)"
      ]
     },
     "execution_count": 32,
     "metadata": {},
     "output_type": "execute_result"
    }
   ],
   "source": [
    "np.zeros_like(zarr)\n",
    "\n",
    "#zarr과 같은 배열의 데이터 만듬(원소는 0)"
   ]
  },
  {
   "cell_type": "markdown",
   "id": "5d1332c1-f200-4f84-b13d-95bcd88c725b",
   "metadata": {},
   "source": [
    "## Random"
   ]
  },
  {
   "cell_type": "code",
   "execution_count": 33,
   "id": "5e6e313d-0b7c-4034-a399-b5633c251a19",
   "metadata": {},
   "outputs": [
    {
     "data": {
      "text/plain": [
       "array([4.70560301, 0.55757705, 8.45382804, 8.45578596, 7.80360184])"
      ]
     },
     "execution_count": 33,
     "metadata": {},
     "output_type": "execute_result"
    }
   ],
   "source": [
    "np.random.uniform(0, 10, 5)\n",
    "\n",
    "#유니폼 분포"
   ]
  },
  {
   "cell_type": "code",
   "execution_count": 34,
   "id": "bd7f03b3-d60d-4b25-afbe-3e74beb1506e",
   "metadata": {},
   "outputs": [
    {
     "data": {
      "text/plain": [
       "array([5.32817708, 4.52503679, 5.50920476, 5.27906755, 4.97936619,\n",
       "       5.3345257 , 5.96290802, 6.01662989, 4.59148082, 2.99585954])"
      ]
     },
     "execution_count": 34,
     "metadata": {},
     "output_type": "execute_result"
    }
   ],
   "source": [
    "np.random.normal(5,1,10)\n",
    "\n",
    "#정규분포(평균값이 5이고 표준편차가 1인 정규분포)"
   ]
  },
  {
   "cell_type": "code",
   "execution_count": 35,
   "id": "c6b6cce0-23e6-434a-a827-445465b00745",
   "metadata": {},
   "outputs": [
    {
     "data": {
      "text/plain": [
       "array([[-1.79020059,  0.30390809,  0.64371068],\n",
       "       [ 0.6250297 , -0.29686754,  0.82335197]])"
      ]
     },
     "execution_count": 35,
     "metadata": {},
     "output_type": "execute_result"
    }
   ],
   "source": [
    "np.random.randn(2,3)\n",
    "\n",
    "#표준정규분포에 대해 데이터를 (2,3)만큼 만듦"
   ]
  },
  {
   "cell_type": "markdown",
   "id": "9da8877f-ba7f-4818-a38c-d3922236e5ed",
   "metadata": {},
   "source": [
    "## Function"
   ]
  },
  {
   "cell_type": "code",
   "execution_count": 36,
   "id": "f65a039f-6c96-4975-869f-aa28117e7277",
   "metadata": {},
   "outputs": [
    {
     "data": {
      "text/plain": [
       "array([[ 0,  1,  2,  3],\n",
       "       [ 4,  5,  6,  7],\n",
       "       [ 8,  9, 10, 11]])"
      ]
     },
     "execution_count": 36,
     "metadata": {},
     "output_type": "execute_result"
    }
   ],
   "source": [
    "xarr = np.arange(0,12).reshape(3,4)\n",
    "xarr"
   ]
  },
  {
   "cell_type": "code",
   "execution_count": 37,
   "id": "061a48e9-5ce0-4888-ae44-20baa7395b46",
   "metadata": {},
   "outputs": [
    {
     "data": {
      "text/plain": [
       "array([12, 15, 18, 21])"
      ]
     },
     "execution_count": 37,
     "metadata": {},
     "output_type": "execute_result"
    }
   ],
   "source": [
    "xarr.sum(axis=0)\n",
    "\n",
    "#0번 축쪽으로 더함"
   ]
  },
  {
   "cell_type": "code",
   "execution_count": 38,
   "id": "489f5f31-e2be-46f5-ad21-2003b8f1ce7a",
   "metadata": {},
   "outputs": [
    {
     "data": {
      "text/plain": [
       "array([ 6, 22, 38])"
      ]
     },
     "execution_count": 38,
     "metadata": {},
     "output_type": "execute_result"
    }
   ],
   "source": [
    "np.sum(xarr, axis=1)\n",
    "\n",
    "#1번 축쪽으로 더함"
   ]
  },
  {
   "cell_type": "code",
   "execution_count": 39,
   "id": "592f04b4-ef8a-4464-a5f8-48751dfffa07",
   "metadata": {},
   "outputs": [
    {
     "data": {
      "text/plain": [
       "array([4., 5., 6., 7.])"
      ]
     },
     "execution_count": 39,
     "metadata": {},
     "output_type": "execute_result"
    }
   ],
   "source": [
    "xarr.mean(axis=0)\n",
    "#np.mean(xarr, axis=0)과 같음"
   ]
  },
  {
   "cell_type": "code",
   "execution_count": 40,
   "id": "685f74ca-2f65-40f6-8461-7916bca36312",
   "metadata": {},
   "outputs": [
    {
     "data": {
      "text/plain": [
       "array([0, 4, 8])"
      ]
     },
     "execution_count": 40,
     "metadata": {},
     "output_type": "execute_result"
    }
   ],
   "source": [
    "xarr.min(axis=1)"
   ]
  },
  {
   "cell_type": "code",
   "execution_count": 41,
   "id": "35dcfb81-198a-4473-94d7-d7953978325e",
   "metadata": {},
   "outputs": [
    {
     "data": {
      "text/plain": [
       "array([[ 3,  4,  5,  6],\n",
       "       [ 7,  8,  9, 10],\n",
       "       [11, 12, 13, 14]])"
      ]
     },
     "execution_count": 41,
     "metadata": {},
     "output_type": "execute_result"
    }
   ],
   "source": [
    "xarr + [3]\n",
    "#Numpy는 BroadCasting이 가능 (단, 조건이 있음)"
   ]
  },
  {
   "cell_type": "code",
   "execution_count": 42,
   "id": "29e4ee2c-7a40-4f6d-8d8a-7e24856cb128",
   "metadata": {},
   "outputs": [
    {
     "data": {
      "text/plain": [
       "array([[ 0,  2,  4,  6],\n",
       "       [ 8, 10, 12, 14],\n",
       "       [16, 18, 20, 22]])"
      ]
     },
     "execution_count": 42,
     "metadata": {},
     "output_type": "execute_result"
    }
   ],
   "source": [
    "xarr * 2"
   ]
  },
  {
   "cell_type": "code",
   "execution_count": 43,
   "id": "0c5a1bc8-cb72-4313-a26e-05d8d3db4880",
   "metadata": {},
   "outputs": [
    {
     "data": {
      "text/plain": [
       "array([[ 1,  4],\n",
       "       [ 9, 16]])"
      ]
     },
     "execution_count": 43,
     "metadata": {},
     "output_type": "execute_result"
    }
   ],
   "source": [
    "x=np.array([[1,2],[3,4]])\n",
    "y=np.array([[1,2],[3,4]])\n",
    "x*y\n",
    "#같은 위치의 원소끼리 곱"
   ]
  },
  {
   "cell_type": "code",
   "execution_count": 44,
   "id": "4b7f79d7-97b1-4ca4-9607-ae16cb64de96",
   "metadata": {},
   "outputs": [
    {
     "data": {
      "text/plain": [
       "array([[ 7, 10],\n",
       "       [15, 22]])"
      ]
     },
     "execution_count": 44,
     "metadata": {},
     "output_type": "execute_result"
    }
   ],
   "source": [
    "x@y\n",
    "#우리가 아는 행렬 곱"
   ]
  },
  {
   "cell_type": "code",
   "execution_count": 45,
   "id": "03ceb393-277a-4268-a722-c6f284470e9d",
   "metadata": {},
   "outputs": [
    {
     "data": {
      "text/plain": [
       "14"
      ]
     },
     "execution_count": 45,
     "metadata": {},
     "output_type": "execute_result"
    }
   ],
   "source": [
    "x=np.array([1,2,3])\n",
    "y=np.array([1,2,3])\n",
    "np.dot(x,y)\n",
    "#1차원일 때는 1*1+2*2+3*3으로 동작 (근데 1차원일 때도 걍 행렬 곱인데?)"
   ]
  },
  {
   "cell_type": "code",
   "execution_count": 46,
   "id": "70413afb-7bed-4845-98bd-364b94e50a73",
   "metadata": {},
   "outputs": [
    {
     "data": {
      "text/plain": [
       "array([[ 7, 10],\n",
       "       [15, 22]])"
      ]
     },
     "execution_count": 46,
     "metadata": {},
     "output_type": "execute_result"
    }
   ],
   "source": [
    "x=np.array([[1,2],[3,4]])\n",
    "y=np.array([[1,2],[3,4]])\n",
    "np.dot(x,y)\n",
    "#2차원 이상부터는 행렬 곱으로 동작"
   ]
  },
  {
   "cell_type": "code",
   "execution_count": 47,
   "id": "4183f043-a933-44b8-825c-dcac0162a8a3",
   "metadata": {},
   "outputs": [
    {
     "data": {
      "text/plain": [
       "array([[ 7, 10],\n",
       "       [15, 22]])"
      ]
     },
     "execution_count": 47,
     "metadata": {},
     "output_type": "execute_result"
    }
   ],
   "source": [
    "x=np.array([[1,2],[3,4]])\n",
    "y=np.array([[1,2],[3,4]])\n",
    "np.matmul(x,y)\n",
    "#행렬 곱만 한다고 함"
   ]
  },
  {
   "cell_type": "code",
   "execution_count": 48,
   "id": "c8b5919d-804e-495c-b8de-bb632b9f2ce0",
   "metadata": {},
   "outputs": [
    {
     "data": {
      "text/plain": [
       "array([[ 7, 10, 13],\n",
       "       [15, 22, 29],\n",
       "       [23, 34, 45]])"
      ]
     },
     "execution_count": 48,
     "metadata": {},
     "output_type": "execute_result"
    }
   ],
   "source": [
    "x=np.array([[1,2],[3,4],[5,6]])\n",
    "y=np.array([[1,2,3],[3,4,5]])\n",
    "np.dot(x,y)"
   ]
  },
  {
   "cell_type": "code",
   "execution_count": 49,
   "id": "3f68af98-f932-4984-b6e3-da6e9e1d35de",
   "metadata": {},
   "outputs": [
    {
     "data": {
      "text/plain": [
       "array([False, False,  True])"
      ]
     },
     "execution_count": 49,
     "metadata": {},
     "output_type": "execute_result"
    }
   ],
   "source": [
    "x=np.array([1,2,3])\n",
    "x>2\n",
    "#array로 결과가 나타나는데 거의 필터링을 위해서 씀"
   ]
  },
  {
   "cell_type": "code",
   "execution_count": 50,
   "id": "cca29515-892d-468e-928b-f1af990ca28a",
   "metadata": {},
   "outputs": [
    {
     "data": {
      "text/plain": [
       "array([3])"
      ]
     },
     "execution_count": 50,
     "metadata": {},
     "output_type": "execute_result"
    }
   ],
   "source": [
    "x[[False, False,  True]]\n",
    "#Boolean indexing, True의 값만 뽑아옴 (x[x>2]와 똑같음)"
   ]
  },
  {
   "cell_type": "code",
   "execution_count": 51,
   "id": "72439c58-61cd-4c5d-9902-b81aec7271d9",
   "metadata": {},
   "outputs": [
    {
     "data": {
      "text/plain": [
       "array([1, 2])"
      ]
     },
     "execution_count": 51,
     "metadata": {},
     "output_type": "execute_result"
    }
   ],
   "source": [
    "x[x<3]"
   ]
  },
  {
   "cell_type": "code",
   "execution_count": 52,
   "id": "0ec00d05-8edd-44ce-a300-f85f442767c8",
   "metadata": {},
   "outputs": [
    {
     "data": {
      "text/plain": [
       "array([-2, -2,  3])"
      ]
     },
     "execution_count": 52,
     "metadata": {},
     "output_type": "execute_result"
    }
   ],
   "source": [
    "x[x<3]=-2\n",
    "x"
   ]
  },
  {
   "cell_type": "code",
   "execution_count": 53,
   "id": "19269d81-dd6e-4baa-b0c3-a69df5e0932a",
   "metadata": {},
   "outputs": [
    {
     "data": {
      "text/plain": [
       "array([1, 2, 3, 4, 5, 6])"
      ]
     },
     "execution_count": 53,
     "metadata": {},
     "output_type": "execute_result"
    }
   ],
   "source": [
    "x = [1,2,3]\n",
    "y = [4,5,6]\n",
    "np.concatenate((x,y), axis=0)"
   ]
  },
  {
   "cell_type": "code",
   "execution_count": 54,
   "id": "143e30a5-356a-43ae-bdb6-83d1b40a7fbb",
   "metadata": {},
   "outputs": [
    {
     "data": {
      "text/plain": [
       "array([[1, 2, 3],\n",
       "       [4, 5, 6]])"
      ]
     },
     "execution_count": 54,
     "metadata": {},
     "output_type": "execute_result"
    }
   ],
   "source": [
    "x = [1,2,3]\n",
    "y = [4,5,6]\n",
    "np.vstack((x,y))\n",
    "#vertical로 합치기"
   ]
  },
  {
   "cell_type": "code",
   "execution_count": 55,
   "id": "e6b5ff74-75f9-47c5-9d3b-17db58c57d2f",
   "metadata": {},
   "outputs": [
    {
     "data": {
      "text/plain": [
       "array([1, 2, 3, 4, 5, 6])"
      ]
     },
     "execution_count": 55,
     "metadata": {},
     "output_type": "execute_result"
    }
   ],
   "source": [
    "x = [1,2,3]\n",
    "y = [4,5,6]\n",
    "np.hstack((x,y))\n",
    "#horizon하게 합치기"
   ]
  },
  {
   "cell_type": "code",
   "execution_count": 56,
   "id": "8c9bc77c-3e2d-4180-a5ad-fbc4ced05b80",
   "metadata": {},
   "outputs": [
    {
     "name": "stdout",
     "output_type": "stream",
     "text": [
      "3\n"
     ]
    }
   ],
   "source": [
    "x = [[1,2],[3,4]]\n",
    "print(x[1][0])"
   ]
  },
  {
   "cell_type": "code",
   "execution_count": 57,
   "id": "9b1cbbfb-ede4-4ec2-bf20-028ffff738e9",
   "metadata": {},
   "outputs": [
    {
     "data": {
      "text/plain": [
       "3"
      ]
     },
     "execution_count": 57,
     "metadata": {},
     "output_type": "execute_result"
    }
   ],
   "source": [
    "x = np.array([[1,2],[3,4]])\n",
    "x[1,0]\n",
    "#x[row,culomn]"
   ]
  },
  {
   "cell_type": "code",
   "execution_count": 58,
   "id": "9d0fd29f-c7b2-499c-bfb2-41433981777d",
   "metadata": {},
   "outputs": [
    {
     "data": {
      "text/plain": [
       "(array([3, 4], dtype=int64),)"
      ]
     },
     "execution_count": 58,
     "metadata": {},
     "output_type": "execute_result"
    }
   ],
   "source": [
    "x = np.array([1,2,3,4,5])\n",
    "np.where(x>3)\n",
    "#()안이 true인 곳의 index를 뽑아줌"
   ]
  },
  {
   "cell_type": "code",
   "execution_count": 59,
   "id": "52867908-2490-44fc-b47d-ab90aafea467",
   "metadata": {},
   "outputs": [
    {
     "data": {
      "text/plain": [
       "array([0, 0, 0, 1, 1])"
      ]
     },
     "execution_count": 59,
     "metadata": {},
     "output_type": "execute_result"
    }
   ],
   "source": [
    "np.where(x > 3, 1, 0)\n",
    "#x>3인 곳은 1로, 아닌 곳은 0으로)"
   ]
  },
  {
   "cell_type": "code",
   "execution_count": 60,
   "id": "270b07ec-0ad6-4878-941a-333228f91c92",
   "metadata": {},
   "outputs": [
    {
     "data": {
      "text/plain": [
       "3"
      ]
     },
     "execution_count": 60,
     "metadata": {},
     "output_type": "execute_result"
    }
   ],
   "source": [
    "x = np.array([1,2,3,4,5,6])\n",
    "x = np.where(x>3,1,0)\n",
    "x.sum()\n",
    "#원하는 데이터의 개수를 구할 수 있음"
   ]
  },
  {
   "cell_type": "code",
   "execution_count": 61,
   "id": "a6e85ead-c000-48f9-9c9e-bf17ddd51df2",
   "metadata": {},
   "outputs": [
    {
     "data": {
      "text/plain": [
       "array([[ 0.26462937,  1.02648051, -0.24263923, -1.19046868],\n",
       "       [ 1.21471791,  0.65840104,  0.9229591 , -0.09875805],\n",
       "       [-0.23244767, -0.96941863,  0.38984972,  0.52228466]])"
      ]
     },
     "execution_count": 61,
     "metadata": {},
     "output_type": "execute_result"
    }
   ],
   "source": [
    "x = np.random.randn(3,4)\n",
    "x"
   ]
  },
  {
   "cell_type": "code",
   "execution_count": 62,
   "id": "7c7d5c0d-3cc1-4b95-82d8-08e178956076",
   "metadata": {},
   "outputs": [
    {
     "data": {
      "text/plain": [
       "array([1, 0, 3], dtype=int64)"
      ]
     },
     "execution_count": 62,
     "metadata": {},
     "output_type": "execute_result"
    }
   ],
   "source": [
    "np.argmax(x,axis=1)\n",
    "# 제일 큰 값의 인덱스를 뽑아옴\n",
    "#argmin은 그 반대"
   ]
  },
  {
   "cell_type": "code",
   "execution_count": 63,
   "id": "e789c1a3-447b-46d6-9fe7-b33b59d03c2d",
   "metadata": {},
   "outputs": [
    {
     "data": {
      "text/plain": [
       "array([1, 2, 3, 4, 5, 6, 7])"
      ]
     },
     "execution_count": 63,
     "metadata": {},
     "output_type": "execute_result"
    }
   ],
   "source": [
    "xarr = np.array([1,2,3,4,5,6,7])\n",
    "xarr"
   ]
  },
  {
   "cell_type": "code",
   "execution_count": 64,
   "id": "e4b68ad5-df2d-4b72-b434-f0ae861ef4a8",
   "metadata": {},
   "outputs": [
    {
     "data": {
      "text/plain": [
       "array([4, 5])"
      ]
     },
     "execution_count": 64,
     "metadata": {},
     "output_type": "execute_result"
    }
   ],
   "source": [
    "y = xarr[3:5].copy()\n",
    "y\n",
    "#.copy()를 해야 원본 데이터가 바뀌지 않음"
   ]
  },
  {
   "cell_type": "code",
   "execution_count": 65,
   "id": "18541fb2-99ce-4f36-b746-e74464274022",
   "metadata": {},
   "outputs": [
    {
     "data": {
      "text/plain": [
       "array([-1,  5])"
      ]
     },
     "execution_count": 65,
     "metadata": {},
     "output_type": "execute_result"
    }
   ],
   "source": [
    "y[0] = -1\n",
    "y"
   ]
  },
  {
   "cell_type": "code",
   "execution_count": 66,
   "id": "2412796f-717d-4ea7-8d15-b6f76b268dc5",
   "metadata": {},
   "outputs": [
    {
     "data": {
      "text/plain": [
       "array([1, 2, 3, 4, 5, 6, 7])"
      ]
     },
     "execution_count": 66,
     "metadata": {},
     "output_type": "execute_result"
    }
   ],
   "source": [
    "xarr"
   ]
  },
  {
   "cell_type": "code",
   "execution_count": 68,
   "id": "9f9e8539-c1b6-4711-8f18-0bf97f7ed633",
   "metadata": {},
   "outputs": [
    {
     "data": {
      "text/plain": [
       "array([[1. , 5.1, 3.5, 1.4, 0.2, nan],\n",
       "       [2. , 4.9, 3. , 1.4, 0.2, nan],\n",
       "       [3. , 4.7, 3.2, 1.3, 0.2, nan],\n",
       "       [4. , 4.6, 3.1, 1.5, 0.2, nan],\n",
       "       [5. , 5. , 3.6, 1.4, 0.2, nan]])"
      ]
     },
     "execution_count": 68,
     "metadata": {},
     "output_type": "execute_result"
    }
   ],
   "source": [
    "iris = np.genfromtxt('datasets/iris.csv', delimiter = ',', skip_header=1)\n",
    "iris[:5]"
   ]
  },
  {
   "cell_type": "code",
   "execution_count": 69,
   "id": "53da1da4-0c91-4942-aa21-e6051d95e3ec",
   "metadata": {},
   "outputs": [],
   "source": [
    "#xarr[:,0] >5.8\n",
    "\n",
    "m=5.8\n",
    "x = iris[iris[:,0] >5.8, :]\n",
    "y = iris[iris[:,0] >5.8, :]"
   ]
  },
  {
   "cell_type": "code",
   "execution_count": 70,
   "id": "d094c3ac-6482-42e9-a1a4-f5a88fad92c9",
   "metadata": {},
   "outputs": [],
   "source": [
    "np.savez('my_iris.npz', x=x, y=y)"
   ]
  },
  {
   "cell_type": "code",
   "execution_count": 71,
   "id": "b2bf626a-8699-49a5-9d4f-267246ac50a6",
   "metadata": {},
   "outputs": [],
   "source": [
    "my_iris = np.load('my_iris.npz')"
   ]
  },
  {
   "cell_type": "code",
   "execution_count": 72,
   "id": "e6e75039-ece1-4482-be2e-ef1d414132b8",
   "metadata": {},
   "outputs": [
    {
     "data": {
      "text/plain": [
       "numpy.lib.npyio.NpzFile"
      ]
     },
     "execution_count": 72,
     "metadata": {},
     "output_type": "execute_result"
    }
   ],
   "source": [
    "type(my_iris)"
   ]
  },
  {
   "cell_type": "code",
   "execution_count": 73,
   "id": "c3909a6e-9896-4f17-805e-859bccc69540",
   "metadata": {},
   "outputs": [],
   "source": [
    "xarr = my_iris['x']\n",
    "yarr = my_iris['y']\n",
    "#저장 후 로드해서 다시 데이터 볼 수 있음"
   ]
  },
  {
   "cell_type": "code",
   "execution_count": 75,
   "id": "8a0b07b6-a7a8-40e4-a4c6-0e61a09bf8fd",
   "metadata": {},
   "outputs": [
    {
     "data": {
      "text/plain": [
       "array([[ 6. ,  5.4,  3.9,  1.7,  0.4,  nan],\n",
       "       [ 7. ,  4.6,  3.4,  1.4,  0.3,  nan],\n",
       "       [ 8. ,  5. ,  3.4,  1.5,  0.2,  nan],\n",
       "       [ 9. ,  4.4,  2.9,  1.4,  0.2,  nan],\n",
       "       [10. ,  4.9,  3.1,  1.5,  0.1,  nan],\n",
       "       [11. ,  5.4,  3.7,  1.5,  0.2,  nan],\n",
       "       [12. ,  4.8,  3.4,  1.6,  0.2,  nan],\n",
       "       [13. ,  4.8,  3. ,  1.4,  0.1,  nan],\n",
       "       [14. ,  4.3,  3. ,  1.1,  0.1,  nan],\n",
       "       [15. ,  5.8,  4. ,  1.2,  0.2,  nan]])"
      ]
     },
     "execution_count": 75,
     "metadata": {},
     "output_type": "execute_result"
    }
   ],
   "source": [
    "xarr[:10]"
   ]
  },
  {
   "cell_type": "code",
   "execution_count": 76,
   "id": "4f639f64-49f6-4f30-a239-616e159a5bdc",
   "metadata": {},
   "outputs": [
    {
     "data": {
      "text/plain": [
       "array([[ 6. ,  5.4,  3.9,  1.7,  0.4,  nan],\n",
       "       [ 7. ,  4.6,  3.4,  1.4,  0.3,  nan],\n",
       "       [ 8. ,  5. ,  3.4,  1.5,  0.2,  nan],\n",
       "       [ 9. ,  4.4,  2.9,  1.4,  0.2,  nan],\n",
       "       [10. ,  4.9,  3.1,  1.5,  0.1,  nan],\n",
       "       [11. ,  5.4,  3.7,  1.5,  0.2,  nan],\n",
       "       [12. ,  4.8,  3.4,  1.6,  0.2,  nan],\n",
       "       [13. ,  4.8,  3. ,  1.4,  0.1,  nan],\n",
       "       [14. ,  4.3,  3. ,  1.1,  0.1,  nan],\n",
       "       [15. ,  5.8,  4. ,  1.2,  0.2,  nan]])"
      ]
     },
     "execution_count": 76,
     "metadata": {},
     "output_type": "execute_result"
    }
   ],
   "source": [
    "yarr[:10]"
   ]
  },
  {
   "cell_type": "code",
   "execution_count": null,
   "id": "29f5ad64-c827-47f8-8d0b-9b84d5b3de44",
   "metadata": {},
   "outputs": [],
   "source": []
  }
 ],
 "metadata": {
  "kernelspec": {
   "display_name": "myml",
   "language": "python",
   "name": "myml"
  },
  "language_info": {
   "codemirror_mode": {
    "name": "ipython",
    "version": 3
   },
   "file_extension": ".py",
   "mimetype": "text/x-python",
   "name": "python",
   "nbconvert_exporter": "python",
   "pygments_lexer": "ipython3",
   "version": "3.8.0"
  }
 },
 "nbformat": 4,
 "nbformat_minor": 5
}
