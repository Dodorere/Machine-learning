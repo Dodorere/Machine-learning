{
 "cells": [
  {
   "cell_type": "markdown",
   "id": "a6f24550-6833-4adb-8f7e-40779a77ddf6",
   "metadata": {},
   "source": [
    "# KNN"
   ]
  },
  {
   "cell_type": "markdown",
   "id": "c15efdff-a408-4e72-9341-63c2abc3e2e1",
   "metadata": {},
   "source": [
    "## 데이터 준비 및 확인"
   ]
  },
  {
   "cell_type": "code",
   "execution_count": 137,
   "id": "6f2d94b9-693f-41e5-ae50-2e362f2f0041",
   "metadata": {},
   "outputs": [],
   "source": [
    "import numpy as np\n",
    "import pandas as pd\n",
    "import matplotlib.pyplot as plt\n",
    "import seaborn as sns"
   ]
  },
  {
   "cell_type": "code",
   "execution_count": 138,
   "id": "f8587ff8-5206-44a0-bf84-b1be046cc571",
   "metadata": {},
   "outputs": [],
   "source": [
    "data = pd.read_csv('datasets/citrus.csv')"
   ]
  },
  {
   "cell_type": "code",
   "execution_count": 139,
   "id": "fff0bc40-13ef-4c1e-80cc-bfe6928b3ad9",
   "metadata": {},
   "outputs": [],
   "source": [
    "#!pip install scikit-learn"
   ]
  },
  {
   "cell_type": "code",
   "execution_count": 140,
   "id": "2c35ddb7-75db-499b-8970-61013f3c1976",
   "metadata": {},
   "outputs": [
    {
     "data": {
      "text/html": [
       "<div>\n",
       "<style scoped>\n",
       "    .dataframe tbody tr th:only-of-type {\n",
       "        vertical-align: middle;\n",
       "    }\n",
       "\n",
       "    .dataframe tbody tr th {\n",
       "        vertical-align: top;\n",
       "    }\n",
       "\n",
       "    .dataframe thead th {\n",
       "        text-align: right;\n",
       "    }\n",
       "</style>\n",
       "<table border=\"1\" class=\"dataframe\">\n",
       "  <thead>\n",
       "    <tr style=\"text-align: right;\">\n",
       "      <th></th>\n",
       "      <th>name</th>\n",
       "      <th>diameter</th>\n",
       "      <th>weight</th>\n",
       "      <th>red</th>\n",
       "      <th>green</th>\n",
       "      <th>blue</th>\n",
       "    </tr>\n",
       "  </thead>\n",
       "  <tbody>\n",
       "    <tr>\n",
       "      <th>0</th>\n",
       "      <td>orange</td>\n",
       "      <td>2.96</td>\n",
       "      <td>86.76</td>\n",
       "      <td>172</td>\n",
       "      <td>85</td>\n",
       "      <td>2</td>\n",
       "    </tr>\n",
       "    <tr>\n",
       "      <th>1</th>\n",
       "      <td>orange</td>\n",
       "      <td>3.91</td>\n",
       "      <td>88.05</td>\n",
       "      <td>166</td>\n",
       "      <td>78</td>\n",
       "      <td>3</td>\n",
       "    </tr>\n",
       "    <tr>\n",
       "      <th>2</th>\n",
       "      <td>orange</td>\n",
       "      <td>4.42</td>\n",
       "      <td>95.17</td>\n",
       "      <td>156</td>\n",
       "      <td>81</td>\n",
       "      <td>2</td>\n",
       "    </tr>\n",
       "    <tr>\n",
       "      <th>3</th>\n",
       "      <td>orange</td>\n",
       "      <td>4.47</td>\n",
       "      <td>95.60</td>\n",
       "      <td>163</td>\n",
       "      <td>81</td>\n",
       "      <td>4</td>\n",
       "    </tr>\n",
       "    <tr>\n",
       "      <th>4</th>\n",
       "      <td>orange</td>\n",
       "      <td>4.48</td>\n",
       "      <td>95.76</td>\n",
       "      <td>161</td>\n",
       "      <td>72</td>\n",
       "      <td>9</td>\n",
       "    </tr>\n",
       "  </tbody>\n",
       "</table>\n",
       "</div>"
      ],
      "text/plain": [
       "     name  diameter  weight  red  green  blue\n",
       "0  orange      2.96   86.76  172     85     2\n",
       "1  orange      3.91   88.05  166     78     3\n",
       "2  orange      4.42   95.17  156     81     2\n",
       "3  orange      4.47   95.60  163     81     4\n",
       "4  orange      4.48   95.76  161     72     9"
      ]
     },
     "execution_count": 140,
     "metadata": {},
     "output_type": "execute_result"
    }
   ],
   "source": [
    "data.head()"
   ]
  },
  {
   "cell_type": "code",
   "execution_count": 141,
   "id": "9ccc1886-418a-40ef-9aaa-500d22d7d57f",
   "metadata": {},
   "outputs": [
    {
     "data": {
      "text/plain": [
       "'1.1.1'"
      ]
     },
     "execution_count": 141,
     "metadata": {},
     "output_type": "execute_result"
    }
   ],
   "source": [
    "import sklearn\n",
    "\n",
    "sklearn.__version__"
   ]
  },
  {
   "cell_type": "code",
   "execution_count": 142,
   "id": "efee3f6b-e26d-4347-b292-d0dcb10c8000",
   "metadata": {},
   "outputs": [],
   "source": [
    "citrus = data.copy()"
   ]
  },
  {
   "cell_type": "code",
   "execution_count": 143,
   "id": "4123f1d9-7526-4027-ab43-3eecbc902e46",
   "metadata": {},
   "outputs": [
    {
     "data": {
      "text/plain": [
       "array(['orange', 'grapefruit'], dtype=object)"
      ]
     },
     "execution_count": 143,
     "metadata": {},
     "output_type": "execute_result"
    }
   ],
   "source": [
    "citrus['name'].unique()"
   ]
  },
  {
   "cell_type": "code",
   "execution_count": 144,
   "id": "ea72355e-871d-4405-93a3-25b2196396c3",
   "metadata": {},
   "outputs": [
    {
     "name": "stdout",
     "output_type": "stream",
     "text": [
      "<class 'pandas.core.frame.DataFrame'>\n",
      "RangeIndex: 10000 entries, 0 to 9999\n",
      "Data columns (total 6 columns):\n",
      " #   Column    Non-Null Count  Dtype  \n",
      "---  ------    --------------  -----  \n",
      " 0   name      10000 non-null  object \n",
      " 1   diameter  10000 non-null  float64\n",
      " 2   weight    10000 non-null  float64\n",
      " 3   red       10000 non-null  int64  \n",
      " 4   green     10000 non-null  int64  \n",
      " 5   blue      10000 non-null  int64  \n",
      "dtypes: float64(2), int64(3), object(1)\n",
      "memory usage: 468.9+ KB\n"
     ]
    }
   ],
   "source": [
    "citrus.info()"
   ]
  },
  {
   "cell_type": "code",
   "execution_count": 145,
   "id": "1229da1d-2447-42e3-a2d4-97364fc794c4",
   "metadata": {},
   "outputs": [
    {
     "data": {
      "text/plain": [
       "name        0\n",
       "diameter    0\n",
       "weight      0\n",
       "red         0\n",
       "green       0\n",
       "blue        0\n",
       "dtype: int64"
      ]
     },
     "execution_count": 145,
     "metadata": {},
     "output_type": "execute_result"
    }
   ],
   "source": [
    "citrus.isna().sum()"
   ]
  },
  {
   "cell_type": "code",
   "execution_count": 146,
   "id": "89ffc2df-f642-4ab6-a33f-ae6fc5c0b1db",
   "metadata": {},
   "outputs": [
    {
     "data": {
      "text/html": [
       "<div>\n",
       "<style scoped>\n",
       "    .dataframe tbody tr th:only-of-type {\n",
       "        vertical-align: middle;\n",
       "    }\n",
       "\n",
       "    .dataframe tbody tr th {\n",
       "        vertical-align: top;\n",
       "    }\n",
       "\n",
       "    .dataframe thead th {\n",
       "        text-align: right;\n",
       "    }\n",
       "</style>\n",
       "<table border=\"1\" class=\"dataframe\">\n",
       "  <thead>\n",
       "    <tr style=\"text-align: right;\">\n",
       "      <th></th>\n",
       "      <th>name</th>\n",
       "      <th>diameter</th>\n",
       "      <th>weight</th>\n",
       "      <th>red</th>\n",
       "      <th>green</th>\n",
       "      <th>blue</th>\n",
       "    </tr>\n",
       "  </thead>\n",
       "  <tbody>\n",
       "  </tbody>\n",
       "</table>\n",
       "</div>"
      ],
      "text/plain": [
       "Empty DataFrame\n",
       "Columns: [name, diameter, weight, red, green, blue]\n",
       "Index: []"
      ]
     },
     "execution_count": 146,
     "metadata": {},
     "output_type": "execute_result"
    }
   ],
   "source": [
    "citrus[citrus.duplicated()]"
   ]
  },
  {
   "cell_type": "code",
   "execution_count": 147,
   "id": "c07f097e-632a-46c8-80a9-8424b46b9b09",
   "metadata": {},
   "outputs": [
    {
     "data": {
      "text/plain": [
       "orange        5000\n",
       "grapefruit    5000\n",
       "Name: name, dtype: int64"
      ]
     },
     "execution_count": 147,
     "metadata": {},
     "output_type": "execute_result"
    }
   ],
   "source": [
    "citrus['name'].value_counts()"
   ]
  },
  {
   "cell_type": "code",
   "execution_count": 148,
   "id": "f0538b03-b3a6-471b-9574-bda66d98dadb",
   "metadata": {},
   "outputs": [
    {
     "data": {
      "text/plain": [
       "<seaborn.axisgrid.FacetGrid at 0x1a3e24f4d90>"
      ]
     },
     "execution_count": 148,
     "metadata": {},
     "output_type": "execute_result"
    },
    {
     "data": {
      "image/png": "[encoded data removed]",
      "text/plain": [
       "<Figure size 619.5x500 with 1 Axes>"
      ]
     },
     "metadata": {},
     "output_type": "display_data"
    }
   ],
   "source": [
    "sns.displot(data = citrus, x = 'diameter', hue = 'name', kind = 'kde')"
   ]
  },
  {
   "cell_type": "markdown",
   "id": "d05d6449-cd64-4611-b8af-3fe12a6816f6",
   "metadata": {},
   "source": [
    "## 데이터 전처리"
   ]
  },
  {
   "cell_type": "code",
   "execution_count": 149,
   "id": "0057a614-d365-4a5d-8ad1-de8910fa7bd5",
   "metadata": {},
   "outputs": [],
   "source": [
    "## label encoding (map)\n",
    "## encoding 할 때 먼저 잘 바뀌었는지 확인해보고 데이터 바꾸기!!\n",
    "\n",
    "#citrus['name'] = citrus['name'].map({'grapefruit' : 0, 'orange' : 1})"
   ]
  },
  {
   "cell_type": "code",
   "execution_count": 150,
   "id": "2255d8d0-edfd-4ee6-93e1-45ba311cd587",
   "metadata": {},
   "outputs": [],
   "source": [
    "#citrus"
   ]
  },
  {
   "cell_type": "code",
   "execution_count": 151,
   "id": "4a65fb69-a3ce-4ac8-b101-bf64b19cbc61",
   "metadata": {},
   "outputs": [],
   "source": [
    "## label encoding (sklearn)\n",
    "\n",
    "from sklearn.preprocessing import LabelEncoder\n",
    "\n",
    "le = LabelEncoder()\n",
    "le.fit(citrus['name'])\n",
    "citrus['name'] = le.transform(citrus['name'])\n",
    "\n",
    "# citrus['name'] = le.fit_transform(citrus['name'])"
   ]
  },
  {
   "cell_type": "code",
   "execution_count": 152,
   "id": "19cb91e5-6f3b-4752-8820-7d49993597a3",
   "metadata": {},
   "outputs": [
    {
     "data": {
      "text/html": [
       "<div>\n",
       "<style scoped>\n",
       "    .dataframe tbody tr th:only-of-type {\n",
       "        vertical-align: middle;\n",
       "    }\n",
       "\n",
       "    .dataframe tbody tr th {\n",
       "        vertical-align: top;\n",
       "    }\n",
       "\n",
       "    .dataframe thead th {\n",
       "        text-align: right;\n",
       "    }\n",
       "</style>\n",
       "<table border=\"1\" class=\"dataframe\">\n",
       "  <thead>\n",
       "    <tr style=\"text-align: right;\">\n",
       "      <th></th>\n",
       "      <th>name</th>\n",
       "      <th>diameter</th>\n",
       "      <th>weight</th>\n",
       "      <th>red</th>\n",
       "      <th>green</th>\n",
       "      <th>blue</th>\n",
       "    </tr>\n",
       "  </thead>\n",
       "  <tbody>\n",
       "    <tr>\n",
       "      <th>0</th>\n",
       "      <td>1</td>\n",
       "      <td>2.96</td>\n",
       "      <td>86.76</td>\n",
       "      <td>172</td>\n",
       "      <td>85</td>\n",
       "      <td>2</td>\n",
       "    </tr>\n",
       "    <tr>\n",
       "      <th>1</th>\n",
       "      <td>1</td>\n",
       "      <td>3.91</td>\n",
       "      <td>88.05</td>\n",
       "      <td>166</td>\n",
       "      <td>78</td>\n",
       "      <td>3</td>\n",
       "    </tr>\n",
       "    <tr>\n",
       "      <th>2</th>\n",
       "      <td>1</td>\n",
       "      <td>4.42</td>\n",
       "      <td>95.17</td>\n",
       "      <td>156</td>\n",
       "      <td>81</td>\n",
       "      <td>2</td>\n",
       "    </tr>\n",
       "    <tr>\n",
       "      <th>3</th>\n",
       "      <td>1</td>\n",
       "      <td>4.47</td>\n",
       "      <td>95.60</td>\n",
       "      <td>163</td>\n",
       "      <td>81</td>\n",
       "      <td>4</td>\n",
       "    </tr>\n",
       "    <tr>\n",
       "      <th>4</th>\n",
       "      <td>1</td>\n",
       "      <td>4.48</td>\n",
       "      <td>95.76</td>\n",
       "      <td>161</td>\n",
       "      <td>72</td>\n",
       "      <td>9</td>\n",
       "    </tr>\n",
       "    <tr>\n",
       "      <th>...</th>\n",
       "      <td>...</td>\n",
       "      <td>...</td>\n",
       "      <td>...</td>\n",
       "      <td>...</td>\n",
       "      <td>...</td>\n",
       "      <td>...</td>\n",
       "    </tr>\n",
       "    <tr>\n",
       "      <th>9995</th>\n",
       "      <td>0</td>\n",
       "      <td>15.35</td>\n",
       "      <td>253.89</td>\n",
       "      <td>149</td>\n",
       "      <td>77</td>\n",
       "      <td>20</td>\n",
       "    </tr>\n",
       "    <tr>\n",
       "      <th>9996</th>\n",
       "      <td>0</td>\n",
       "      <td>15.41</td>\n",
       "      <td>254.67</td>\n",
       "      <td>148</td>\n",
       "      <td>68</td>\n",
       "      <td>7</td>\n",
       "    </tr>\n",
       "    <tr>\n",
       "      <th>9997</th>\n",
       "      <td>0</td>\n",
       "      <td>15.59</td>\n",
       "      <td>256.50</td>\n",
       "      <td>168</td>\n",
       "      <td>82</td>\n",
       "      <td>20</td>\n",
       "    </tr>\n",
       "    <tr>\n",
       "      <th>9998</th>\n",
       "      <td>0</td>\n",
       "      <td>15.92</td>\n",
       "      <td>260.14</td>\n",
       "      <td>142</td>\n",
       "      <td>72</td>\n",
       "      <td>11</td>\n",
       "    </tr>\n",
       "    <tr>\n",
       "      <th>9999</th>\n",
       "      <td>0</td>\n",
       "      <td>16.45</td>\n",
       "      <td>261.51</td>\n",
       "      <td>152</td>\n",
       "      <td>74</td>\n",
       "      <td>2</td>\n",
       "    </tr>\n",
       "  </tbody>\n",
       "</table>\n",
       "<p>10000 rows × 6 columns</p>\n",
       "</div>"
      ],
      "text/plain": [
       "      name  diameter  weight  red  green  blue\n",
       "0        1      2.96   86.76  172     85     2\n",
       "1        1      3.91   88.05  166     78     3\n",
       "2        1      4.42   95.17  156     81     2\n",
       "3        1      4.47   95.60  163     81     4\n",
       "4        1      4.48   95.76  161     72     9\n",
       "...    ...       ...     ...  ...    ...   ...\n",
       "9995     0     15.35  253.89  149     77    20\n",
       "9996     0     15.41  254.67  148     68     7\n",
       "9997     0     15.59  256.50  168     82    20\n",
       "9998     0     15.92  260.14  142     72    11\n",
       "9999     0     16.45  261.51  152     74     2\n",
       "\n",
       "[10000 rows x 6 columns]"
      ]
     },
     "execution_count": 152,
     "metadata": {},
     "output_type": "execute_result"
    }
   ],
   "source": [
    "citrus"
   ]
  },
  {
   "cell_type": "code",
   "execution_count": 153,
   "id": "e9f7be3d-51bc-46ce-baf7-cd2a410f68aa",
   "metadata": {},
   "outputs": [
    {
     "data": {
      "text/plain": [
       "array(['grapefruit', 'orange'], dtype=object)"
      ]
     },
     "execution_count": 153,
     "metadata": {},
     "output_type": "execute_result"
    }
   ],
   "source": [
    "le.classes_"
   ]
  },
  {
   "cell_type": "markdown",
   "id": "ffc568fc-737e-4add-a03f-7c216f85c7c8",
   "metadata": {},
   "source": [
    "## train data와 test data 분리"
   ]
  },
  {
   "cell_type": "code",
   "execution_count": 154,
   "id": "e4e27656-8682-4bbb-bd5d-e619b2b38b89",
   "metadata": {},
   "outputs": [],
   "source": [
    "# 먼저 x,y 분리\n",
    "\n",
    "x = citrus.iloc[:,1:]"
   ]
  },
  {
   "cell_type": "code",
   "execution_count": 155,
   "id": "76fc7e5c-3c41-43d0-b2a0-3f7dd0ac6b15",
   "metadata": {},
   "outputs": [],
   "source": [
    "y = citrus.iloc[:,0]"
   ]
  },
  {
   "cell_type": "code",
   "execution_count": 156,
   "id": "0b49965e-4f47-4969-8c54-7afee16ba661",
   "metadata": {},
   "outputs": [
    {
     "data": {
      "text/html": [
       "<div>\n",
       "<style scoped>\n",
       "    .dataframe tbody tr th:only-of-type {\n",
       "        vertical-align: middle;\n",
       "    }\n",
       "\n",
       "    .dataframe tbody tr th {\n",
       "        vertical-align: top;\n",
       "    }\n",
       "\n",
       "    .dataframe thead th {\n",
       "        text-align: right;\n",
       "    }\n",
       "</style>\n",
       "<table border=\"1\" class=\"dataframe\">\n",
       "  <thead>\n",
       "    <tr style=\"text-align: right;\">\n",
       "      <th></th>\n",
       "      <th>diameter</th>\n",
       "      <th>weight</th>\n",
       "      <th>red</th>\n",
       "      <th>green</th>\n",
       "      <th>blue</th>\n",
       "    </tr>\n",
       "  </thead>\n",
       "  <tbody>\n",
       "    <tr>\n",
       "      <th>0</th>\n",
       "      <td>2.96</td>\n",
       "      <td>86.76</td>\n",
       "      <td>172</td>\n",
       "      <td>85</td>\n",
       "      <td>2</td>\n",
       "    </tr>\n",
       "    <tr>\n",
       "      <th>1</th>\n",
       "      <td>3.91</td>\n",
       "      <td>88.05</td>\n",
       "      <td>166</td>\n",
       "      <td>78</td>\n",
       "      <td>3</td>\n",
       "    </tr>\n",
       "    <tr>\n",
       "      <th>2</th>\n",
       "      <td>4.42</td>\n",
       "      <td>95.17</td>\n",
       "      <td>156</td>\n",
       "      <td>81</td>\n",
       "      <td>2</td>\n",
       "    </tr>\n",
       "    <tr>\n",
       "      <th>3</th>\n",
       "      <td>4.47</td>\n",
       "      <td>95.60</td>\n",
       "      <td>163</td>\n",
       "      <td>81</td>\n",
       "      <td>4</td>\n",
       "    </tr>\n",
       "    <tr>\n",
       "      <th>4</th>\n",
       "      <td>4.48</td>\n",
       "      <td>95.76</td>\n",
       "      <td>161</td>\n",
       "      <td>72</td>\n",
       "      <td>9</td>\n",
       "    </tr>\n",
       "  </tbody>\n",
       "</table>\n",
       "</div>"
      ],
      "text/plain": [
       "   diameter  weight  red  green  blue\n",
       "0      2.96   86.76  172     85     2\n",
       "1      3.91   88.05  166     78     3\n",
       "2      4.42   95.17  156     81     2\n",
       "3      4.47   95.60  163     81     4\n",
       "4      4.48   95.76  161     72     9"
      ]
     },
     "execution_count": 156,
     "metadata": {},
     "output_type": "execute_result"
    }
   ],
   "source": [
    "x.head()"
   ]
  },
  {
   "cell_type": "code",
   "execution_count": 157,
   "id": "d48e217c-e4b0-4ec9-8666-e89fd8382be9",
   "metadata": {},
   "outputs": [
    {
     "data": {
      "text/plain": [
       "0    1\n",
       "1    1\n",
       "2    1\n",
       "3    1\n",
       "4    1\n",
       "Name: name, dtype: int32"
      ]
     },
     "execution_count": 157,
     "metadata": {},
     "output_type": "execute_result"
    }
   ],
   "source": [
    "y.head()"
   ]
  },
  {
   "cell_type": "code",
   "execution_count": 158,
   "id": "f708b75d-066b-4123-9c8b-01f462729674",
   "metadata": {},
   "outputs": [],
   "source": [
    "# train, test 분리\n",
    "#(슬라이싱 이용)\n",
    "\n",
    "#x, y = sklearn.utils.shuffle(x, y)\n",
    "\n",
    "#idx = int(citrus.shape[0]*0.8)\n",
    "\n",
    "#x_train = x.iloc[:idx,:]\n",
    "#x_test = x.iloc[idx:,:]\n",
    "#y_train = y[:idx]\n",
    "#y_test = y[idx:]"
   ]
  },
  {
   "cell_type": "code",
   "execution_count": 160,
   "id": "c3e3f840-8c0e-466d-ad74-7329e448ea54",
   "metadata": {},
   "outputs": [],
   "source": [
    "# train, test 분리\n",
    "\n",
    "from sklearn.model_selection import train_test_split\n",
    "\n",
    "x_train, x_test, y_train, y_test = train_test_split(x, y, test_size = 0.2, random_state = 2022, stratify = y, shuffle = True)\n",
    "#stratify는 잘 섞일 수 있도록 조정\n",
    "#서순 조심"
   ]
  },
  {
   "cell_type": "code",
   "execution_count": 162,
   "id": "9dd74730-c0ad-400a-ad5e-edbaeb02e095",
   "metadata": {},
   "outputs": [
    {
     "data": {
      "text/html": [
       "<div>\n",
       "<style scoped>\n",
       "    .dataframe tbody tr th:only-of-type {\n",
       "        vertical-align: middle;\n",
       "    }\n",
       "\n",
       "    .dataframe tbody tr th {\n",
       "        vertical-align: top;\n",
       "    }\n",
       "\n",
       "    .dataframe thead th {\n",
       "        text-align: right;\n",
       "    }\n",
       "</style>\n",
       "<table border=\"1\" class=\"dataframe\">\n",
       "  <thead>\n",
       "    <tr style=\"text-align: right;\">\n",
       "      <th></th>\n",
       "      <th>diameter</th>\n",
       "      <th>weight</th>\n",
       "      <th>red</th>\n",
       "      <th>green</th>\n",
       "      <th>blue</th>\n",
       "    </tr>\n",
       "  </thead>\n",
       "  <tbody>\n",
       "    <tr>\n",
       "      <th>465</th>\n",
       "      <td>6.82</td>\n",
       "      <td>128.08</td>\n",
       "      <td>159</td>\n",
       "      <td>93</td>\n",
       "      <td>3</td>\n",
       "    </tr>\n",
       "    <tr>\n",
       "      <th>5055</th>\n",
       "      <td>8.81</td>\n",
       "      <td>153.11</td>\n",
       "      <td>139</td>\n",
       "      <td>64</td>\n",
       "      <td>4</td>\n",
       "    </tr>\n",
       "    <tr>\n",
       "      <th>978</th>\n",
       "      <td>7.42</td>\n",
       "      <td>136.61</td>\n",
       "      <td>154</td>\n",
       "      <td>76</td>\n",
       "      <td>15</td>\n",
       "    </tr>\n",
       "    <tr>\n",
       "      <th>4787</th>\n",
       "      <td>10.67</td>\n",
       "      <td>184.66</td>\n",
       "      <td>166</td>\n",
       "      <td>88</td>\n",
       "      <td>19</td>\n",
       "    </tr>\n",
       "    <tr>\n",
       "      <th>105</th>\n",
       "      <td>5.84</td>\n",
       "      <td>114.96</td>\n",
       "      <td>152</td>\n",
       "      <td>84</td>\n",
       "      <td>17</td>\n",
       "    </tr>\n",
       "    <tr>\n",
       "      <th>4537</th>\n",
       "      <td>10.13</td>\n",
       "      <td>177.59</td>\n",
       "      <td>171</td>\n",
       "      <td>75</td>\n",
       "      <td>14</td>\n",
       "    </tr>\n",
       "    <tr>\n",
       "      <th>2986</th>\n",
       "      <td>8.79</td>\n",
       "      <td>157.27</td>\n",
       "      <td>151</td>\n",
       "      <td>94</td>\n",
       "      <td>11</td>\n",
       "    </tr>\n",
       "    <tr>\n",
       "      <th>3692</th>\n",
       "      <td>9.26</td>\n",
       "      <td>164.67</td>\n",
       "      <td>140</td>\n",
       "      <td>66</td>\n",
       "      <td>11</td>\n",
       "    </tr>\n",
       "    <tr>\n",
       "      <th>7217</th>\n",
       "      <td>11.27</td>\n",
       "      <td>194.67</td>\n",
       "      <td>143</td>\n",
       "      <td>68</td>\n",
       "      <td>2</td>\n",
       "    </tr>\n",
       "    <tr>\n",
       "      <th>3425</th>\n",
       "      <td>9.06</td>\n",
       "      <td>161.77</td>\n",
       "      <td>157</td>\n",
       "      <td>75</td>\n",
       "      <td>2</td>\n",
       "    </tr>\n",
       "  </tbody>\n",
       "</table>\n",
       "</div>"
      ],
      "text/plain": [
       "      diameter  weight  red  green  blue\n",
       "465       6.82  128.08  159     93     3\n",
       "5055      8.81  153.11  139     64     4\n",
       "978       7.42  136.61  154     76    15\n",
       "4787     10.67  184.66  166     88    19\n",
       "105       5.84  114.96  152     84    17\n",
       "4537     10.13  177.59  171     75    14\n",
       "2986      8.79  157.27  151     94    11\n",
       "3692      9.26  164.67  140     66    11\n",
       "7217     11.27  194.67  143     68     2\n",
       "3425      9.06  161.77  157     75     2"
      ]
     },
     "execution_count": 162,
     "metadata": {},
     "output_type": "execute_result"
    }
   ],
   "source": [
    "x_train.head(10)"
   ]
  },
  {
   "cell_type": "markdown",
   "id": "38c7608b-8fc9-418f-a198-de94c8832e30",
   "metadata": {},
   "source": [
    "## 스케일링 작업"
   ]
  },
  {
   "cell_type": "code",
   "execution_count": 164,
   "id": "58ddca6b-5165-449e-9a87-03207079e464",
   "metadata": {},
   "outputs": [],
   "source": [
    "# 표준화\n",
    "\n",
    "#u = x_train['diameter'].mean()\n",
    "#s = x_train['diameter'].std()\n",
    "#z = (x_train['diameter']-u)/s"
   ]
  },
  {
   "cell_type": "code",
   "execution_count": 167,
   "id": "12edfa33-3e2e-492f-86aa-ce42053f301b",
   "metadata": {},
   "outputs": [],
   "source": [
    "# standard scaler\n",
    "\n",
    "from sklearn.preprocessing import StandardScaler\n",
    "\n",
    "ss = StandardScaler()\n",
    "ss.fit(x_train)\n",
    "x_train_scaler = ss.transform(x_train)"
   ]
  },
  {
   "cell_type": "code",
   "execution_count": 168,
   "id": "9e4a008b-bc0f-4ac2-bd1c-9da0c97d95c3",
   "metadata": {},
   "outputs": [
    {
     "data": {
      "text/plain": [
       "array([[-1.61852607, -1.60693378,  0.48456216,  1.45730586, -0.92140149],\n",
       "       [-0.59932084, -0.75195291, -1.42739703, -1.02134167, -0.81169288],\n",
       "       [-1.31122801, -1.31556395,  0.00657236,  0.00430558,  0.39510185],\n",
       "       [ 0.35330314,  0.32573973,  1.15374787,  1.02995284,  0.8339363 ],\n",
       "       [-2.12044623, -2.05508996, -0.18462356,  0.68807042,  0.61451907]])"
      ]
     },
     "execution_count": 168,
     "metadata": {},
     "output_type": "execute_result"
    }
   ],
   "source": [
    "x_train_scaler[:5]"
   ]
  },
  {
   "cell_type": "code",
   "execution_count": 171,
   "id": "3dcc0834-b47b-4c10-a9e3-c8a8a26f22ff",
   "metadata": {},
   "outputs": [
    {
     "ename": "AttributeError",
     "evalue": "'numpy.ndarray' object has no attribute 'to_numpy'",
     "output_type": "error",
     "traceback": [
      "\u001b[1;31m---------------------------------------------------------------------------\u001b[0m",
      "\u001b[1;31mAttributeError\u001b[0m                            Traceback (most recent call last)",
      "Input \u001b[1;32mIn [171]\u001b[0m, in \u001b[0;36m<cell line: 3>\u001b[1;34m()\u001b[0m\n\u001b[0;32m      1\u001b[0m \u001b[38;5;66;03m# x_train_scaler가 nd array 타입이므로 y_train도 어레이 타입으로 변경\u001b[39;00m\n\u001b[1;32m----> 3\u001b[0m y_train \u001b[38;5;241m=\u001b[39m \u001b[43my_train\u001b[49m\u001b[38;5;241;43m.\u001b[39;49m\u001b[43mto_numpy\u001b[49m()\n",
      "\u001b[1;31mAttributeError\u001b[0m: 'numpy.ndarray' object has no attribute 'to_numpy'"
     ]
    }
   ],
   "source": [
    "# x_train_scaler가 nd array 타입이므로 y_train도 어레이 타입으로 변경\n",
    "\n",
    "y_train = y_train.to_numpy()\n",
    "# y_train = y_train.values()"
   ]
  },
  {
   "cell_type": "code",
   "execution_count": 172,
   "id": "928a6001-4820-4b94-b679-e236d8a9c69f",
   "metadata": {},
   "outputs": [
    {
     "data": {
      "text/plain": [
       "array([1, 0, 1, ..., 0, 0, 0])"
      ]
     },
     "execution_count": 172,
     "metadata": {},
     "output_type": "execute_result"
    }
   ],
   "source": [
    "y_train"
   ]
  },
  {
   "cell_type": "markdown",
   "id": "f24003ab-38e3-41da-9336-088f5b4057dc",
   "metadata": {},
   "source": [
    "## 모델 학습"
   ]
  },
  {
   "cell_type": "code",
   "execution_count": 177,
   "id": "d36b35de-8c59-4ac1-88d0-6ddd681a1438",
   "metadata": {},
   "outputs": [
    {
     "data": {
      "text/html": [
       "<style>#sk-container-id-2 {color: black;background-color: white;}#sk-container-id-2 pre{padding: 0;}#sk-container-id-2 div.sk-toggleable {background-color: white;}#sk-container-id-2 label.sk-toggleable__label {cursor: pointer;display: block;width: 100%;margin-bottom: 0;padding: 0.3em;box-sizing: border-box;text-align: center;}#sk-container-id-2 label.sk-toggleable__label-arrow:before {content: \"▸\";float: left;margin-right: 0.25em;color: #696969;}#sk-container-id-2 label.sk-toggleable__label-arrow:hover:before {color: black;}#sk-container-id-2 div.sk-estimator:hover label.sk-toggleable__label-arrow:before {color: black;}#sk-container-id-2 div.sk-toggleable__content {max-height: 0;max-width: 0;overflow: hidden;text-align: left;background-color: #f0f8ff;}#sk-container-id-2 div.sk-toggleable__content pre {margin: 0.2em;color: black;border-radius: 0.25em;background-color: #f0f8ff;}#sk-container-id-2 input.sk-toggleable__control:checked~div.sk-toggleable__content {max-height: 200px;max-width: 100%;overflow: auto;}#sk-container-id-2 input.sk-toggleable__control:checked~label.sk-toggleable__label-arrow:before {content: \"▾\";}#sk-container-id-2 div.sk-estimator input.sk-toggleable__control:checked~label.sk-toggleable__label {background-color: #d4ebff;}#sk-container-id-2 div.sk-label input.sk-toggleable__control:checked~label.sk-toggleable__label {background-color: #d4ebff;}#sk-container-id-2 input.sk-hidden--visually {border: 0;clip: rect(1px 1px 1px 1px);clip: rect(1px, 1px, 1px, 1px);height: 1px;margin: -1px;overflow: hidden;padding: 0;position: absolute;width: 1px;}#sk-container-id-2 div.sk-estimator {font-family: monospace;background-color: #f0f8ff;border: 1px dotted black;border-radius: 0.25em;box-sizing: border-box;margin-bottom: 0.5em;}#sk-container-id-2 div.sk-estimator:hover {background-color: #d4ebff;}#sk-container-id-2 div.sk-parallel-item::after {content: \"\";width: 100%;border-bottom: 1px solid gray;flex-grow: 1;}#sk-container-id-2 div.sk-label:hover label.sk-toggleable__label {background-color: #d4ebff;}#sk-container-id-2 div.sk-serial::before {content: \"\";position: absolute;border-left: 1px solid gray;box-sizing: border-box;top: 0;bottom: 0;left: 50%;z-index: 0;}#sk-container-id-2 div.sk-serial {display: flex;flex-direction: column;align-items: center;background-color: white;padding-right: 0.2em;padding-left: 0.2em;position: relative;}#sk-container-id-2 div.sk-item {position: relative;z-index: 1;}#sk-container-id-2 div.sk-parallel {display: flex;align-items: stretch;justify-content: center;background-color: white;position: relative;}#sk-container-id-2 div.sk-item::before, #sk-container-id-2 div.sk-parallel-item::before {content: \"\";position: absolute;border-left: 1px solid gray;box-sizing: border-box;top: 0;bottom: 0;left: 50%;z-index: -1;}#sk-container-id-2 div.sk-parallel-item {display: flex;flex-direction: column;z-index: 1;position: relative;background-color: white;}#sk-container-id-2 div.sk-parallel-item:first-child::after {align-self: flex-end;width: 50%;}#sk-container-id-2 div.sk-parallel-item:last-child::after {align-self: flex-start;width: 50%;}#sk-container-id-2 div.sk-parallel-item:only-child::after {width: 0;}#sk-container-id-2 div.sk-dashed-wrapped {border: 1px dashed gray;margin: 0 0.4em 0.5em 0.4em;box-sizing: border-box;padding-bottom: 0.4em;background-color: white;}#sk-container-id-2 div.sk-label label {font-family: monospace;font-weight: bold;display: inline-block;line-height: 1.2em;}#sk-container-id-2 div.sk-label-container {text-align: center;}#sk-container-id-2 div.sk-container {/* jupyter's `normalize.less` sets `[hidden] { display: none; }` but bootstrap.min.css set `[hidden] { display: none !important; }` so we also need the `!important` here to be able to override the default hidden behavior on the sphinx rendered scikit-learn.org. See: https://github.com/scikit-learn/scikit-learn/issues/21755 */display: inline-block !important;position: relative;}#sk-container-id-2 div.sk-text-repr-fallback {display: none;}</style><div id=\"sk-container-id-2\" class=\"sk-top-container\"><div class=\"sk-text-repr-fallback\"><pre>KNeighborsClassifier()</pre><b>In a Jupyter environment, please rerun this cell to show the HTML representation or trust the notebook. <br />On GitHub, the HTML representation is unable to render, please try loading this page with nbviewer.org.</b></div><div class=\"sk-container\" hidden><div class=\"sk-item\"><div class=\"sk-estimator sk-toggleable\"><input class=\"sk-toggleable__control sk-hidden--visually\" id=\"sk-estimator-id-2\" type=\"checkbox\" checked><label for=\"sk-estimator-id-2\" class=\"sk-toggleable__label sk-toggleable__label-arrow\">KNeighborsClassifier</label><div class=\"sk-toggleable__content\"><pre>KNeighborsClassifier()</pre></div></div></div></div></div>"
      ],
      "text/plain": [
       "KNeighborsClassifier()"
      ]
     },
     "execution_count": 177,
     "metadata": {},
     "output_type": "execute_result"
    }
   ],
   "source": [
    "from sklearn.neighbors import KNeighborsClassifier\n",
    "\n",
    "clf = KNeighborsClassifier()\n",
    "clf.fit(x_train_scaler, y_train)"
   ]
  },
  {
   "cell_type": "code",
   "execution_count": 179,
   "id": "57916ded-eede-46d1-acef-451d121ce0da",
   "metadata": {},
   "outputs": [],
   "source": [
    "x_test_scaler = ss.transform(x_test)"
   ]
  },
  {
   "cell_type": "code",
   "execution_count": 204,
   "id": "d955303d-bc9b-46f3-908f-dafb7a7c30bf",
   "metadata": {},
   "outputs": [],
   "source": [
    "y_pred = clf.predict(x_test_scaler)"
   ]
  },
  {
   "cell_type": "code",
   "execution_count": 205,
   "id": "dc9de7e2-e89f-49c9-a10d-2822e16d900f",
   "metadata": {},
   "outputs": [
    {
     "data": {
      "text/plain": [
       "1841"
      ]
     },
     "execution_count": 205,
     "metadata": {},
     "output_type": "execute_result"
    }
   ],
   "source": [
    "(y_pred == y_test).sum()"
   ]
  },
  {
   "cell_type": "markdown",
   "id": "11ad4f39-2a97-47f4-8d53-bdd657576397",
   "metadata": {},
   "source": [
    "## 평가"
   ]
  },
  {
   "cell_type": "code",
   "execution_count": 187,
   "id": "7b63cbce-223c-4b5c-97b2-f2f2e5fe9207",
   "metadata": {},
   "outputs": [
    {
     "data": {
      "text/plain": [
       "array([[915,  85],\n",
       "       [ 74, 926]], dtype=int64)"
      ]
     },
     "execution_count": 187,
     "metadata": {},
     "output_type": "execute_result"
    }
   ],
   "source": [
    "from sklearn.metrics import confusion_matrix\n",
    "\n",
    "#앞에 정답값을 넣어야함\n",
    "cfm = confusion_matrix(y_test, y_pred)\n",
    "cfm"
   ]
  },
  {
   "cell_type": "code",
   "execution_count": 192,
   "id": "4aa2ad85-9d89-4144-b365-0288ce81c7b2",
   "metadata": {},
   "outputs": [
    {
     "data": {
      "image/png": "[encoded data removed]",
      "text/plain": [
       "<Figure size 400x400 with 2 Axes>"
      ]
     },
     "metadata": {},
     "output_type": "display_data"
    }
   ],
   "source": [
    "plt.figure(figsize = (4,4))\n",
    "sns.heatmap(cfm, annot = True)\n",
    "plt.show()"
   ]
  },
  {
   "cell_type": "code",
   "execution_count": 207,
   "id": "6c24f15d-6a43-487c-abdd-1c748d8ab8e7",
   "metadata": {},
   "outputs": [],
   "source": [
    "from sklearn.metrics import accuracy_score, precision_score, recall_score\n",
    "\n",
    "def print_score(y_true, y_pred):\n",
    "    \n",
    "    print('정확도 : {}'.format(accuracy_score(y_test, y_pred)))\n",
    "    print('정밀도 : {}'.format(precision_score(y_test, y_pred)))\n",
    "    print('재현율 : {}'.format(recall_score(y_test, y_pred)))\n",
    "    \n"
   ]
  },
  {
   "cell_type": "code",
   "execution_count": 208,
   "id": "2f877405-5173-4db4-b0c1-734163b8fd53",
   "metadata": {},
   "outputs": [
    {
     "name": "stdout",
     "output_type": "stream",
     "text": [
      "정확도 : 0.9205\n",
      "정밀도 : 0.9159248269040554\n",
      "재현율 : 0.926\n"
     ]
    }
   ],
   "source": [
    "print_score(y_test, y_pred)"
   ]
  },
  {
   "cell_type": "code",
   "execution_count": 229,
   "id": "59c2288d-f317-4e60-8fda-075902295f17",
   "metadata": {},
   "outputs": [],
   "source": [
    "\n",
    "acc_scores = []\n",
    "for k in range(3,30):\n",
    "    #새로운 모델\n",
    "    #학습\n",
    "    #예측 정확도\n",
    "    model = KNeighborsClassifier(n_neighbors = k)\n",
    "    model.fit(x_train_scaler, y_train)\n",
    "    y_pred = model.predict(x_test_scaler)\n",
    "    acc_scores.append(accuracy_score(y_test, y_pred))\n"
   ]
  },
  {
   "cell_type": "code",
   "execution_count": 231,
   "id": "5efd84ea-fb60-4250-8dfe-165915cf0c88",
   "metadata": {},
   "outputs": [
    {
     "data": {
      "text/plain": [
       "[0.9175,\n",
       " 0.919,\n",
       " 0.9205,\n",
       " 0.921,\n",
       " 0.9245,\n",
       " 0.9235,\n",
       " 0.926,\n",
       " 0.926,\n",
       " 0.925,\n",
       " 0.924,\n",
       " 0.922,\n",
       " 0.9225,\n",
       " 0.9225,\n",
       " 0.9225,\n",
       " 0.9245,\n",
       " 0.9255,\n",
       " 0.924,\n",
       " 0.926,\n",
       " 0.923,\n",
       " 0.9245,\n",
       " 0.9275,\n",
       " 0.9265,\n",
       " 0.929,\n",
       " 0.929,\n",
       " 0.93,\n",
       " 0.931,\n",
       " 0.93]"
      ]
     },
     "execution_count": 231,
     "metadata": {},
     "output_type": "execute_result"
    }
   ],
   "source": [
    "acc_scores"
   ]
  },
  {
   "cell_type": "code",
   "execution_count": null,
   "id": "cfba0ce8-8f1a-48ce-8fd6-27e972ff8b68",
   "metadata": {},
   "outputs": [],
   "source": []
  },
  {
   "cell_type": "markdown",
   "id": "781cfacd-a848-4160-810b-e37d55e56cfc",
   "metadata": {},
   "source": [
    "## K-Fold"
   ]
  },
  {
   "cell_type": "code",
   "execution_count": 232,
   "id": "6a1048f9-f0ef-47b6-a562-cf314ec75a73",
   "metadata": {},
   "outputs": [
    {
     "name": "stdout",
     "output_type": "stream",
     "text": [
      "0.9193749999999999\n"
     ]
    }
   ],
   "source": [
    "from sklearn.model_selection import KFold\n",
    "\n",
    "kf = KFold(n_splits = 5, shuffle = True, random_state = 2022)\n",
    "\n",
    "acc_scores = []\n",
    "\n",
    "for train_idx, vali_idx in kf.split(x_train_scaler):\n",
    "    train_x, vali_x = x_train_scaler[train_idx], x_train_scaler[vali_idx]\n",
    "    train_y, vali_y = y_train[train_idx], y_train[vali_idx]\n",
    "    \n",
    "    #학습\n",
    "    model = KNeighborsClassifier(n_neighbors = 5)\n",
    "    model.fit(train_x, train_y)\n",
    "    y_pred = model.predict(vali_x)\n",
    "    acc_scores.append(accuracy_score(vali_y, y_pred))\n",
    "\n",
    "print(np.array(acc_scores).mean())"
   ]
  },
  {
   "cell_type": "code",
   "execution_count": 228,
   "id": "7b513d43-4a57-478d-b5c8-b4da6115c383",
   "metadata": {},
   "outputs": [
    {
     "data": {
      "text/plain": [
       "[0.914375, 0.91125, 0.934375, 0.92125, 0.915625]"
      ]
     },
     "execution_count": 228,
     "metadata": {},
     "output_type": "execute_result"
    }
   ],
   "source": [
    "acc_scores"
   ]
  },
  {
   "cell_type": "code",
   "execution_count": 245,
   "id": "db30f55a-4539-4cfb-ac1f-8aab25d6d62a",
   "metadata": {},
   "outputs": [
    {
     "name": "stdout",
     "output_type": "stream",
     "text": [
      "0.90375\n",
      "0.90375\n",
      "0.9072916666666667\n",
      "0.9075000000000001\n",
      "0.9082500000000001\n",
      "0.9090625000000001\n",
      "0.9092857142857144\n",
      "0.9096093749999999\n",
      "0.9099305555555556\n",
      "0.9099999999999999\n",
      "0.9100568181818182\n",
      "0.91015625\n",
      "0.9102403846153847\n",
      "0.9102232142857144\n",
      "0.910375\n",
      "0.910625\n",
      "0.9108455882352942\n",
      "0.9110763888888889\n",
      "0.911282894736842\n",
      "0.91153125\n",
      "0.9117559523809524\n",
      "0.9119318181818182\n",
      "0.9121467391304349\n",
      "0.9122916666666668\n",
      "0.9124750000000001\n",
      "0.9125721153846155\n",
      "0.9127314814814816\n",
      "0.9128794642857144\n",
      "0.9129956896551726\n",
      "0.9131458333333335\n",
      "0.9132862903225809\n",
      "0.91341796875\n",
      "0.9135795454545454\n",
      "0.9136948529411765\n",
      "0.9138571428571428\n",
      "0.9139409722222221\n",
      "0.9140202702702701\n",
      "0.9140624999999998\n",
      "0.9141185897435895\n",
      "0.9141406249999999\n",
      "0.9141463414634146\n",
      "0.9141964285714285\n",
      "0.9142296511627905\n",
      "0.9142329545454544\n",
      "0.9142777777777776\n",
      "0.9142934782608694\n",
      "0.9143484042553189\n",
      "0.9140234375\n",
      "0.9138137755102042\n",
      "0.9137625000000001\n",
      "0.9136029411764707\n",
      "0.9134855769230771\n",
      "0.9133726415094341\n",
      "0.913275462962963\n",
      "0.9132045454545454\n",
      "0.9131919642857144\n",
      "0.9131907894736843\n",
      "0.9131896551724139\n",
      "0.913188559322034\n",
      "0.9132083333333334\n",
      "0.9132069672131148\n",
      "0.9132358870967743\n",
      "0.9132440476190476\n",
      "0.913330078125\n",
      "0.9134038461538462\n",
      "0.9134848484848486\n",
      "0.9135261194029851\n",
      "0.9135569852941177\n",
      "0.9135960144927536\n",
      "0.9136160714285714\n",
      "0.9136443661971831\n",
      "0.9136805555555555\n",
      "0.9137243150684932\n",
      "0.913758445945946\n",
      "0.9138166666666668\n",
      "0.9138815789473685\n",
      "0.9139285714285716\n",
      "0.9139823717948721\n",
      "0.9140189873417724\n",
      "0.9140703125\n",
      "0.9140972222222222\n",
      "0.9141310975609758\n",
      "0.9141566265060243\n",
      "0.9141889880952383\n",
      "0.9142132352941179\n",
      "0.9142514534883724\n",
      "0.9142816091954027\n",
      "0.9143181818181817\n",
      "0.9143679775280898\n",
      "0.9144097222222223\n",
      "0.9144642857142857\n",
      "0.9145108695652174\n",
      "0.9145698924731184\n",
      "0.9146143617021277\n",
      "0.9148026315789475\n",
      "0.91490234375\n",
      "0.9151030927835052\n",
      "0.9152933673469388\n",
      "0.9154987373737374\n",
      "0.9157125\n",
      "0.9159220297029703\n",
      "0.9161213235294119\n",
      "0.9163410194174758\n",
      "0.9165625\n",
      "0.9167857142857142\n",
      "0.9169870283018867\n",
      "0.9172021028037382\n",
      "0.9173958333333332\n",
      "0.9175802752293577\n",
      "0.9177613636363635\n",
      "0.9179448198198197\n",
      "0.9181305803571428\n",
      "0.9183130530973451\n",
      "0.9184978070175438\n",
      "0.9186847826086956\n",
      "0.9188739224137931\n",
      "0.9190438034188033\n",
      "0.9192161016949152\n",
      "0.9193907563025209\n",
      "0.9195520833333333\n",
      "0.9197107438016529\n",
      "0.9198616803278689\n",
      "0.920025406504065\n",
      "0.9201814516129032\n",
      "0.9203349999999999\n",
      "0.9204811507936507\n",
      "0.9206299212598424\n",
      "0.9207763671875\n",
      "0.9209205426356589\n",
      "0.9210528846153846\n",
      "0.9211879770992366\n",
      "0.921311553030303\n",
      "0.921437969924812\n",
      "0.9215578358208955\n",
      "0.9216944444444444\n",
      "0.9218152573529411\n",
      "0.9219434306569343\n",
      "0.9220697463768115\n",
      "0.9221942446043165\n",
      "0.9223124999999998\n",
      "0.9224379432624111\n",
      "0.9223943661971831\n",
      "0.9223295454545455\n",
      "0.922322048611111\n",
      "0.9223448275862067\n",
      "0.9223587328767122\n",
      "0.9223724489795917\n",
      "0.9224155405405404\n",
      "0.9224538590604023\n",
      "0.9224958333333331\n",
      "0.9225538079470196\n",
      "0.9226069078947368\n",
      "0.9226633986928104\n",
      "0.9227191558441559\n",
      "0.9227903225806452\n",
      "0.9228445512820513\n",
      "0.9229179936305733\n",
      "0.9229707278481014\n",
      "0.9230385220125786\n",
      "0.9230976562500001\n",
      "0.9231482919254658\n",
      "0.9231983024691359\n",
      "0.9232438650306749\n",
      "0.92328125\n",
      "0.9233219696969698\n",
      "0.9233584337349398\n",
      "0.9234056886227545\n",
      "0.9234412202380953\n",
      "0.9234948224852071\n",
      "0.9235330882352942\n",
      "0.9235745614035088\n",
      "0.9236119186046512\n",
      "0.9236596820809251\n",
      "0.9237033045977012\n",
      "0.9237642857142858\n",
      "0.9238032670454545\n",
      "0.9238453389830508\n",
      "0.9238799157303371\n",
      "0.9239175977653633\n",
      "0.9239618055555556\n",
      "0.9240055248618785\n",
      "0.9240418956043958\n",
      "0.9240778688524592\n",
      "0.9241168478260869\n",
      "0.9241486486486487\n",
      "0.9241901881720431\n",
      "0.9242245989304814\n",
      "0.9242586436170213\n",
      "0.9241898148148148\n",
      "0.9241250000000001\n",
      "0.924080497382199\n",
      "0.9240462239583334\n",
      "0.9240187823834196\n",
      "0.9239755154639177\n",
      "0.9239326923076924\n",
      "0.9238998724489798\n",
      "0.923886421319797\n",
      "0.9238762626262627\n",
      "0.9238693467336685\n",
      "0.9238624999999999\n",
      "0.9238650497512436\n",
      "0.9238706683168316\n",
      "0.9238793103448275\n",
      "0.9238786764705882\n",
      "0.9238780487804877\n",
      "0.9238743932038834\n",
      "0.9238677536231883\n",
      "0.9238641826923076\n",
      "0.9238606459330143\n",
      "0.9238571428571428\n",
      "0.9238447867298577\n",
      "0.9238443396226415\n",
      "0.923843896713615\n",
      "0.9238463785046729\n",
      "0.9238488372093023\n",
      "0.9238599537037037\n",
      "0.9238680875576037\n",
      "0.9238790137614679\n",
      "0.9238869863013698\n",
      "0.9238892045454544\n",
      "0.923891402714932\n",
      "0.9238992117117116\n",
      "0.9238957399103138\n",
      "0.9239006696428572\n",
      "0.9238972222222221\n",
      "0.9238965707964601\n",
      "0.9238904185022025\n",
      "0.923892543859649\n",
      "0.9238919213973799\n",
      "0.9238967391304347\n",
      "0.9239042207792207\n",
      "0.92390625\n",
      "0.9239109442060086\n",
      "0.9239155982905982\n",
      "0.9239175531914893\n"
     ]
    }
   ],
   "source": [
    "acc_scores = []\n",
    "\n",
    "\n",
    "for train_idx, vali_idx in kf.split(x_train_scaler):\n",
    "    train_x, vali_x = x_train_scaler[train_idx], x_train_scaler[vali_idx]\n",
    "    train_y, vali_y = y_train[train_idx], y_train[vali_idx]\n",
    "    \n",
    "    for k in range(3,50):\n",
    "        \n",
    "        model = KNeighborsClassifier(n_neighbors = k)\n",
    "        model.fit(train_x, train_y)\n",
    "        y_pred = model.predict(vali_x)\n",
    "        acc_scores.append(accuracy_score(vali_y, y_pred))\n",
    "        print(np.array(acc_scores).mean())\n"
   ]
  },
  {
   "cell_type": "code",
   "execution_count": 241,
   "id": "c68cee55-13ab-4718-8fb2-2739842cd283",
   "metadata": {},
   "outputs": [
    {
     "name": "stdout",
     "output_type": "stream",
     "text": [
      "Collecting tqdm\n",
      "  Downloading tqdm-4.64.0-py2.py3-none-any.whl (78 kB)\n",
      "     ---------------------------------------- 78.4/78.4 kB 4.3 MB/s eta 0:00:00\n",
      "Requirement already satisfied: colorama in c:\\users\\049\\anaconda3\\envs\\myml\\lib\\site-packages (from tqdm) (0.4.5)\n",
      "Installing collected packages: tqdm\n",
      "Successfully installed tqdm-4.64.0\n"
     ]
    }
   ],
   "source": [
    "#!pip install tqdm"
   ]
  },
  {
   "cell_type": "code",
   "execution_count": 242,
   "id": "040cb52a-f615-452d-86f7-8453198dd9ca",
   "metadata": {},
   "outputs": [
    {
     "name": "stderr",
     "output_type": "stream",
     "text": [
      "100%|██████████████████████████████████████████████████████████████████████████████████| 47/47 [00:09<00:00,  4.85it/s]\n"
     ]
    }
   ],
   "source": [
    "## 교차 검증 방법\n",
    "\n",
    "from sklearn.model_selection import cross_val_score\n",
    "from tqdm import tqdm\n",
    "#tqdm으로 모델이 돌아가고 있는지 확인 가능\n",
    "\n",
    "hist = []\n",
    "\n",
    "for k in tqdm(range(3,50)):\n",
    "    model = KNeighborsClassifier(n_neighbors = k)\n",
    "    scores = cross_val_score(model, x_train_scaler, y_train, cv = 5, scoring = 'accuracy')\n",
    "    \n",
    "    hist.append(scores.mean())"
   ]
  },
  {
   "cell_type": "code",
   "execution_count": 244,
   "id": "401dad8a-4784-4e21-8915-d6ba7da11b66",
   "metadata": {},
   "outputs": [
    {
     "data": {
      "text/plain": [
       "[0.909,\n",
       " 0.9112500000000001,\n",
       " 0.915,\n",
       " 0.9164999999999999,\n",
       " 0.9176249999999999,\n",
       " 0.9190000000000002,\n",
       " 0.91975,\n",
       " 0.9200000000000002,\n",
       " 0.9212499999999999,\n",
       " 0.9205,\n",
       " 0.91975,\n",
       " 0.9203749999999999,\n",
       " 0.9217500000000001,\n",
       " 0.9215,\n",
       " 0.9233750000000001,\n",
       " 0.92325,\n",
       " 0.9231250000000001,\n",
       " 0.924,\n",
       " 0.924,\n",
       " 0.92425,\n",
       " 0.9243749999999998,\n",
       " 0.9247500000000001,\n",
       " 0.9253750000000001,\n",
       " 0.925,\n",
       " 0.9256249999999999,\n",
       " 0.9250000000000002,\n",
       " 0.9248750000000001,\n",
       " 0.9257499999999999,\n",
       " 0.926375,\n",
       " 0.9251249999999999,\n",
       " 0.9255000000000001,\n",
       " 0.9245000000000001,\n",
       " 0.9257500000000001,\n",
       " 0.926375,\n",
       " 0.926375,\n",
       " 0.9261250000000001,\n",
       " 0.9259999999999999,\n",
       " 0.9253750000000001,\n",
       " 0.9262500000000001,\n",
       " 0.92675,\n",
       " 0.9259999999999999,\n",
       " 0.9265000000000001,\n",
       " 0.9265000000000001,\n",
       " 0.925,\n",
       " 0.9253750000000001,\n",
       " 0.9255000000000001,\n",
       " 0.9259999999999999]"
      ]
     },
     "execution_count": 244,
     "metadata": {},
     "output_type": "execute_result"
    }
   ],
   "source": [
    "hist"
   ]
  },
  {
   "cell_type": "code",
   "execution_count": null,
   "id": "6c6f6828-8972-46bd-b562-ea45efc64f6d",
   "metadata": {},
   "outputs": [],
   "source": []
  }
 ],
 "metadata": {
  "kernelspec": {
   "display_name": "myml",
   "language": "python",
   "name": "myml"
  },
  "language_info": {
   "codemirror_mode": {
    "name": "ipython",
    "version": 3
   },
   "file_extension": ".py",
   "mimetype": "text/x-python",
   "name": "python",
   "nbconvert_exporter": "python",
   "pygments_lexer": "ipython3",
   "version": "3.8.0"
  }
 },
 "nbformat": 4,
 "nbformat_minor": 5
}
